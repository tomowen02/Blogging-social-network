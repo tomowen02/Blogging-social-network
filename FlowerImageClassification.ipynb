{
  "nbformat": 4,
  "nbformat_minor": 0,
  "metadata": {
    "colab": {
      "provenance": [],
      "authorship_tag": "ABX9TyNWch2KWY3lNJhMxmzL+1fb",
      "include_colab_link": true
    },
    "kernelspec": {
      "name": "python3",
      "display_name": "Python 3"
    },
    "language_info": {
      "name": "python"
    }
  },
  "cells": [
    {
      "cell_type": "markdown",
      "metadata": {
        "id": "view-in-github",
        "colab_type": "text"
      },
      "source": [
        "<a href=\"https://colab.research.google.com/github/tomowen02/Blogging-social-network/blob/master/FlowerImageClassification.ipynb\" target=\"_parent\"><img src=\"https://colab.research.google.com/assets/colab-badge.svg\" alt=\"Open In Colab\"/></a>"
      ]
    },
    {
      "cell_type": "code",
      "execution_count": null,
      "metadata": {
        "id": "ywS9F9eLDtVA"
      },
      "outputs": [],
      "source": [
        "import torch\n",
        "from torch import nn\n",
        "from torch.utils.data import DataLoader\n",
        "from torchvision import datasets\n",
        "from torchvision.transforms import ToTensor"
      ]
    },
    {
      "cell_type": "code",
      "source": [
        "batch_size = 64\n",
        "\n",
        "# Create data loaders.\n",
        "train_dataloader = DataLoader(training_data, batch_size=batch_size)\n",
        "test_dataloader = DataLoader(test_data, batch_size=batch_size)\n",
        "\n",
        "for X, y in test_dataloader:\n",
        "    print(f\"Shape of X [N, C, H, W]: {X.shape}\")\n",
        "    print(f\"Shape of y: {y.shape} {y.dtype}\")\n",
        "    break"
      ],
      "metadata": {
        "colab": {
          "base_uri": "https://localhost:8080/"
        },
        "id": "saOmck7RHCb3",
        "outputId": "19a8aaa3-5169-4c88-df5b-a521c41f451b"
      },
      "execution_count": null,
      "outputs": [
        {
          "output_type": "stream",
          "name": "stdout",
          "text": [
            "Shape of X [N, C, H, W]: torch.Size([64, 1, 28, 28])\n",
            "Shape of y: torch.Size([64]) torch.int64\n"
          ]
        }
      ]
    },
    {
      "cell_type": "code",
      "source": [
        "# Download training data from open datasets.\n",
        "training_data = datasets.FashionMNIST(\n",
        "    root=\"data\",\n",
        "    train=True,\n",
        "    download=True,\n",
        "    transform=ToTensor(),\n",
        ")\n",
        "\n",
        "# Download test data from open datasets.\n",
        "test_data = datasets.FashionMNIST(\n",
        "    root=\"data\",\n",
        "    train=False,\n",
        "    download=True,\n",
        "    transform=ToTensor(),\n",
        ")"
      ],
      "metadata": {
        "id": "HNyTF33AGdo1"
      },
      "execution_count": null,
      "outputs": []
    },
    {
      "cell_type": "code",
      "source": [
        "# Get cpu, gpu or mps device for training.\n",
        "device = (\n",
        "    \"cuda\"\n",
        "    if torch.cuda.is_available()\n",
        "    else \"mps\"\n",
        "    if torch.backends.mps.is_available()\n",
        "    else \"cpu\"\n",
        ")\n",
        "print(f\"Using {device} device\")\n",
        "\n",
        "# Define model\n",
        "class NeuralNetwork(nn.Module):\n",
        "    def __init__(self):\n",
        "        super().__init__()\n",
        "        self.flatten = nn.Flatten()\n",
        "        self.linear_relu_stack = nn.Sequential(\n",
        "            nn.Linear(28*28, 512),\n",
        "            nn.ReLU(),\n",
        "            nn.Linear(512, 512),\n",
        "            nn.ReLU(),\n",
        "            nn.Linear(512, 10)\n",
        "        )\n",
        "\n",
        "    def forward(self, x):\n",
        "        x = self.flatten(x)\n",
        "        logits = self.linear_relu_stack(x)\n",
        "        return logits\n",
        "\n",
        "model = NeuralNetwork().to(device)\n",
        "print(model)"
      ],
      "metadata": {
        "colab": {
          "base_uri": "https://localhost:8080/"
        },
        "id": "OdGpl08JJdwx",
        "outputId": "86fd49f2-19fc-41b1-984f-5c90d5e17214"
      },
      "execution_count": null,
      "outputs": [
        {
          "output_type": "stream",
          "name": "stdout",
          "text": [
            "Using cpu device\n",
            "NeuralNetwork(\n",
            "  (flatten): Flatten(start_dim=1, end_dim=-1)\n",
            "  (linear_relu_stack): Sequential(\n",
            "    (0): Linear(in_features=784, out_features=512, bias=True)\n",
            "    (1): ReLU()\n",
            "    (2): Linear(in_features=512, out_features=512, bias=True)\n",
            "    (3): ReLU()\n",
            "    (4): Linear(in_features=512, out_features=10, bias=True)\n",
            "  )\n",
            ")\n"
          ]
        }
      ]
    },
    {
      "cell_type": "code",
      "source": [
        "loss_fn = nn.CrossEntropyLoss()\n",
        "optimizer = torch.optim.SGD(model.parameters(), lr=1e-3)"
      ],
      "metadata": {
        "id": "eIT_K6RMhd7B"
      },
      "execution_count": null,
      "outputs": []
    },
    {
      "cell_type": "code",
      "source": [
        "def train(dataloader, model, loss_fn, optimizer):\n",
        "    size = len(dataloader.dataset)\n",
        "    model.train()\n",
        "    for batch, (X, y) in enumerate(dataloader):\n",
        "        X, y = X.to(device), y.to(device)\n",
        "\n",
        "        # Compute prediction error\n",
        "        pred = model(X)\n",
        "        loss = loss_fn(pred, y)\n",
        "\n",
        "        # Backpropagation\n",
        "        loss.backward()\n",
        "        optimizer.step()\n",
        "        optimizer.zero_grad()\n",
        "\n",
        "        if batch % 100 == 0:\n",
        "            loss, current = loss.item(), (batch + 1) * len(X)\n",
        "            print(f\"loss: {loss:>7f}  [{current:>5d}/{size:>5d}]\")\n",
        "\n",
        "def test(dataloader, model, loss_fn):\n",
        "    size = len(dataloader.dataset)\n",
        "    num_batches = len(dataloader)\n",
        "    model.eval()\n",
        "    test_loss, correct = 0, 0\n",
        "    with torch.no_grad():\n",
        "        for X, y in dataloader:\n",
        "            X, y = X.to(device), y.to(device)\n",
        "            pred = model(X)\n",
        "            test_loss += loss_fn(pred, y).item()\n",
        "            correct += (pred.argmax(1) == y).type(torch.float).sum().item()\n",
        "    test_loss /= num_batches\n",
        "    correct /= size\n",
        "    print(f\"Test Error: \\n Accuracy: {(100*correct):>0.1f}%, Avg loss: {test_loss:>8f} \\n\")"
      ],
      "metadata": {
        "id": "mjvfl82LigUV"
      },
      "execution_count": null,
      "outputs": []
    },
    {
      "cell_type": "code",
      "source": [
        "epochs = 5\n",
        "for t in range(epochs):\n",
        "    print(f\"Epoch {t+1}\\n-------------------------------\")\n",
        "    train(train_dataloader, model, loss_fn, optimizer)\n",
        "    test(test_dataloader, model, loss_fn)\n",
        "print(\"Done!\")"
      ],
      "metadata": {
        "colab": {
          "base_uri": "https://localhost:8080/"
        },
        "id": "Xt77lLQmhwUW",
        "outputId": "ae238d03-fd34-405c-b7a8-0dc3e2222f53"
      },
      "execution_count": null,
      "outputs": [
        {
          "output_type": "stream",
          "name": "stdout",
          "text": [
            "Epoch 1\n",
            "-------------------------------\n",
            "loss: 2.297418  [   64/60000]\n",
            "loss: 2.280321  [ 6464/60000]\n",
            "loss: 2.255843  [12864/60000]\n",
            "loss: 2.259397  [19264/60000]\n",
            "loss: 2.245554  [25664/60000]\n",
            "loss: 2.219007  [32064/60000]\n",
            "loss: 2.235412  [38464/60000]\n",
            "loss: 2.194068  [44864/60000]\n",
            "loss: 2.195355  [51264/60000]\n",
            "loss: 2.173576  [57664/60000]\n",
            "Test Error: \n",
            " Accuracy: 41.5%, Avg loss: 2.157167 \n",
            "\n",
            "Epoch 2\n",
            "-------------------------------\n",
            "loss: 2.172459  [   64/60000]\n",
            "loss: 2.155868  [ 6464/60000]\n",
            "loss: 2.094668  [12864/60000]\n",
            "loss: 2.112821  [19264/60000]\n",
            "loss: 2.072317  [25664/60000]\n",
            "loss: 2.015863  [32064/60000]\n",
            "loss: 2.053046  [38464/60000]\n",
            "loss: 1.968842  [44864/60000]\n",
            "loss: 1.977871  [51264/60000]\n",
            "loss: 1.913402  [57664/60000]\n",
            "Test Error: \n",
            " Accuracy: 53.1%, Avg loss: 1.900332 \n",
            "\n",
            "Epoch 3\n",
            "-------------------------------\n",
            "loss: 1.943415  [   64/60000]\n",
            "loss: 1.906211  [ 6464/60000]\n",
            "loss: 1.784837  [12864/60000]\n",
            "loss: 1.823297  [19264/60000]\n",
            "loss: 1.727455  [25664/60000]\n",
            "loss: 1.678605  [32064/60000]\n",
            "loss: 1.704861  [38464/60000]\n",
            "loss: 1.599886  [44864/60000]\n",
            "loss: 1.624209  [51264/60000]\n",
            "loss: 1.526018  [57664/60000]\n",
            "Test Error: \n",
            " Accuracy: 60.3%, Avg loss: 1.532312 \n",
            "\n",
            "Epoch 4\n",
            "-------------------------------\n",
            "loss: 1.606130  [   64/60000]\n",
            "loss: 1.565205  [ 6464/60000]\n",
            "loss: 1.411674  [12864/60000]\n",
            "loss: 1.481468  [19264/60000]\n",
            "loss: 1.372417  [25664/60000]\n",
            "loss: 1.363323  [32064/60000]\n",
            "loss: 1.377092  [38464/60000]\n",
            "loss: 1.298238  [44864/60000]\n",
            "loss: 1.329580  [51264/60000]\n",
            "loss: 1.240658  [57664/60000]\n",
            "Test Error: \n",
            " Accuracy: 63.4%, Avg loss: 1.257722 \n",
            "\n",
            "Epoch 5\n",
            "-------------------------------\n",
            "loss: 1.336233  [   64/60000]\n",
            "loss: 1.317461  [ 6464/60000]\n",
            "loss: 1.150894  [12864/60000]\n",
            "loss: 1.257189  [19264/60000]\n",
            "loss: 1.138188  [25664/60000]\n",
            "loss: 1.158966  [32064/60000]\n",
            "loss: 1.178202  [38464/60000]\n",
            "loss: 1.115033  [44864/60000]\n",
            "loss: 1.147421  [51264/60000]\n",
            "loss: 1.079732  [57664/60000]\n",
            "Test Error: \n",
            " Accuracy: 65.2%, Avg loss: 1.089791 \n",
            "\n",
            "Done!\n"
          ]
        }
      ]
    },
    {
      "cell_type": "code",
      "source": [
        "torch.save(model.state_dict(), \"model.pth\")\n",
        "print(\"Saved PyTorch Model State to model.pth\")"
      ],
      "metadata": {
        "id": "wyHv8CiuJyp3",
        "colab": {
          "base_uri": "https://localhost:8080/"
        },
        "outputId": "01d08d35-2e5b-4e34-de8a-ceec43dd2399"
      },
      "execution_count": null,
      "outputs": [
        {
          "output_type": "stream",
          "name": "stdout",
          "text": [
            "Saved PyTorch Model State to model.pth\n"
          ]
        }
      ]
    },
    {
      "cell_type": "code",
      "source": [
        "model = NeuralNetwork().to(device)\n",
        "model.load_state_dict(torch.load(\"model.pth\"))"
      ],
      "metadata": {
        "colab": {
          "base_uri": "https://localhost:8080/"
        },
        "id": "Eo_r9WjQi9n5",
        "outputId": "66a158a6-d845-4f97-8206-1084d44f9442"
      },
      "execution_count": null,
      "outputs": [
        {
          "output_type": "execute_result",
          "data": {
            "text/plain": [
              "<All keys matched successfully>"
            ]
          },
          "metadata": {},
          "execution_count": 9
        }
      ]
    },
    {
      "cell_type": "code",
      "source": [
        "classes = [\n",
        "    \"T-shirt/top\",\n",
        "    \"Trouser\",\n",
        "    \"Pullover\",\n",
        "    \"Dress\",\n",
        "    \"Coat\",\n",
        "    \"Sandal\",\n",
        "    \"Shirt\",\n",
        "    \"Sneaker\",\n",
        "    \"Bag\",\n",
        "    \"Ankle boot\",\n",
        "]\n",
        "\n",
        "model.eval()\n",
        "x, y = test_data[0][0], test_data[0][1]\n",
        "with torch.no_grad():\n",
        "    x = x.to(device)\n",
        "    pred = model(x)\n",
        "    predicted, actual = classes[pred[0].argmax(0)], classes[y]\n",
        "    print(f'Predicted: \"{predicted}\", Actual: \"{actual}\"')"
      ],
      "metadata": {
        "colab": {
          "base_uri": "https://localhost:8080/"
        },
        "id": "pUtKwbg0jJVX",
        "outputId": "54bd7b37-e9b6-4fcf-d5fb-45e36c978f00"
      },
      "execution_count": null,
      "outputs": [
        {
          "output_type": "stream",
          "name": "stdout",
          "text": [
            "Predicted: \"Ankle boot\", Actual: \"Ankle boot\"\n"
          ]
        }
      ]
    }
  ]
}